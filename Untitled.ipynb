{
 "cells": [
  {
   "cell_type": "code",
   "execution_count": null,
   "id": "47c97f89-9e0c-4a82-b1bf-5ed7935d5033",
   "metadata": {},
   "outputs": [],
   "source": [
    "import pandas as pd\n",
    "import seaborn as sns\n",
    "import matplotlib as plt\n",
    "\n",
    "\n",
    "df = pd.read_csv('assurance-maladie-68d92978e362f464596651.csv')\n",
    "print(df.info())\n",
    "print(df.describe())\n",
    "print(df.head())\n"
   ]
  },
  {
   "cell_type": "code",
   "execution_count": null,
   "id": "60fb33b2-d1d8-4e41-a324-1ab01d4b59c1",
   "metadata": {},
   "outputs": [],
   "source": [
    "print(df.dtypes)"
   ]
  },
  {
   "cell_type": "code",
   "execution_count": null,
   "id": "467fcce2-7aad-40fe-8332-de79bcf056d6",
   "metadata": {},
   "outputs": [],
   "source": []
  },
  {
   "cell_type": "code",
   "execution_count": null,
   "id": "6f52de9a-70f5-49d8-869c-094a1a1d5490",
   "metadata": {},
   "outputs": [],
   "source": [
    "print(df.isna())\n",
    "print(df.isna().sum())"
   ]
  },
  {
   "cell_type": "code",
   "execution_count": null,
   "id": "259cad26-cd1b-49c3-b3e2-74c64daccf0b",
   "metadata": {},
   "outputs": [],
   "source": [
    "print(df.duplicated())\n",
    "df_unique = df.loc[:,~df.columns.duplicated()]\n",
    "df_unique\n"
   ]
  },
  {
   "cell_type": "code",
   "execution_count": null,
   "id": "c2518c16-1db4-4347-a396-f74e3609dc51",
   "metadata": {},
   "outputs": [],
   "source": []
  },
  {
   "cell_type": "code",
   "execution_count": null,
   "id": "5fcac9ec-07e6-4ad7-971f-dfee6ca4fb00",
   "metadata": {},
   "outputs": [],
   "source": [
    "import seaborn as sns\n",
    "import matplotlib.pyplot as plt\n",
    "\n",
    "\n",
    "fig, axes = plt.subplots(nrows=1, ncols=3, figsize=(15, 5))\n",
    "\n",
    "\n",
    "df['age'].plot(kind='hist', bins=20, ax=axes[0], title='Age')\n",
    "df['bmi'].plot(kind='hist', bins=20, ax=axes[1], title='BMI')\n",
    "df['charges'].plot(kind='hist', bins=20, ax=axes[2], title='Charges')\n",
    "\n",
    "sns.histplot(data = df , x = 'age'  , hue = 'smoker')\n",
    "\n",
    "plt.figure(figsize=(10, 6))\n",
    "sns.scatterplot(data = df , x = 'age' , y = 'charges' , hue = 'smoker')\n",
    "\n"
   ]
  },
  {
   "cell_type": "code",
   "execution_count": null,
   "id": "3625b61e-fcba-4f5c-acad-e11521f2e81c",
   "metadata": {
    "scrolled": true
   },
   "outputs": [],
   "source": [
    "df.plot(kind = 'scatter' , x = 'bmi' , y = 'charges')"
   ]
  },
  {
   "cell_type": "code",
   "execution_count": null,
   "id": "8dec27d8-4b6f-4866-8509-ed712dd8076a",
   "metadata": {},
   "outputs": [],
   "source": [
    "corr_matrix = df.corr(numeric_only = True)\n",
    "plt.figure(figsize=(12, 10))\n",
    "sns.heatmap(corr_matrix, annot=True, fmt=\".2f\", cmap='viridis', linewidths=.5, cbar=True)\n",
    "plt.title('Customized Heatmap')\n",
    "plt.xlabel('Columns')\n",
    "plt.ylabel('Rows')\n",
    "plt.show()"
   ]
  },
  {
   "cell_type": "code",
   "execution_count": null,
   "id": "fe9ca4cf-b347-42eb-be83-d15f78519202",
   "metadata": {},
   "outputs": [],
   "source": [
    "import seaborn as sns\n",
    "import matplotlib.pyplot as plt\n",
    "\n",
    "sns.boxplot(x = 'bmi' , data = df )\n",
    "plt.show()\n",
    "sns.boxplot(x = 'charges' , data = df)\n",
    "plt.show()\n",
    "\n",
    "Q1 = df['bmi'].quantile(0.25)\n",
    "Q2 = df['bmi'].quantile(0.75)\n",
    "IQR = Q2 - Q1\n",
    "lower = Q1 - 1.5 * IQR\n",
    "higher = Q2 + 1.5 * IQR\n",
    "\n",
    "filtred_df = df[(df['bmi'] >= lower) & (df['bmi'] <= higher)]\n",
    "filtred_df\n",
    "\n",
    "Q1 = filtred_df['charges'].quantile(0.25)\n",
    "Q2 = filtred_df['charges'].quantile(0.75)\n",
    "IQR = Q2 - Q1\n",
    "\n",
    "lower = Q1 - 1.5 * IQR\n",
    "higher = Q2 + 1.5 * IQR\n",
    "\n",
    "new_dataset = filtred_df[(filtred_df['charges'] >= lower) & (filtred_df['charges'] <= higher)].copy()\n",
    "new_dataset\n",
    "\n",
    "outliers = df[(df['charges'] < lower) | (df['charges'] > higher)]\n",
    "\n"
   ]
  },
  {
   "cell_type": "code",
   "execution_count": null,
   "id": "052ad666-ec58-4153-a371-768d24fdd801",
   "metadata": {},
   "outputs": [],
   "source": [
    "sns.boxplot(x = 'bmi' , data = new_dataset )\n",
    "plt.show()\n",
    "sns.boxplot(x = 'charges' , data = new_dataset)\n",
    "plt.show()"
   ]
  },
  {
   "cell_type": "code",
   "execution_count": null,
   "id": "01acedce-8a9a-45ff-8e7d-3dfa328552e1",
   "metadata": {},
   "outputs": [],
   "source": [
    "print(df.isnull().sum())"
   ]
  },
  {
   "cell_type": "code",
   "execution_count": null,
   "id": "4233fc48-c160-4450-a376-a769fc0a9705",
   "metadata": {},
   "outputs": [],
   "source": [
    "df['region'].mode()"
   ]
  },
  {
   "cell_type": "code",
   "execution_count": null,
   "id": "98f5dbe3-1604-4972-9d72-987f5cffa1e3",
   "metadata": {},
   "outputs": [],
   "source": [
    "df['age'].median()"
   ]
  },
  {
   "cell_type": "code",
   "execution_count": null,
   "id": "a098fd01-4d59-499c-8f4e-f5d6ef7668af",
   "metadata": {},
   "outputs": [],
   "source": [
    "incoded = pd.get_dummies(df , columns=['region'  , 'smoker' , 'sex'])\n",
    "incoded\n"
   ]
  },
  {
   "cell_type": "code",
   "execution_count": null,
   "id": "718298a9-581d-49a0-a461-8793981e0938",
   "metadata": {},
   "outputs": [],
   "source": [
    "from sklearn.preprocessing  import LabelEncoder\n",
    "\n",
    "# encoder = LabelEncoder()\n",
    "# encoded_data = encoder.fit_transform(df['region'])\n",
    "columns = ['sex' , 'region' , 'smoker']\n",
    "for column in columns:\n",
    "    encoder = LabelEncoder()\n",
    "    encoded_data = encoder.fit_transform(new_dataset[column])\n",
    "    new_dataset[column] = encoded_data\n",
    "\n",
    "new_dataset"
   ]
  },
  {
   "cell_type": "code",
   "execution_count": null,
   "id": "155e250b-36a2-482d-ac62-bbedfa15e87f",
   "metadata": {},
   "outputs": [],
   "source": [
    "from sklearn.model_selection import train_test_split\n",
    "\n",
    "new_df = new_dataset.drop(columns = ['charges'])\n",
    "X = new_df\n",
    "y = new_dataset['charges']\n",
    "\n",
    "X_train , X_test , y_train , y_test = train_test_split(X , y , test_size = 0.2 , random_state = 42)"
   ]
  },
  {
   "cell_type": "code",
   "execution_count": null,
   "id": "738be345-ed38-4cdc-b16b-157d818e9f97",
   "metadata": {},
   "outputs": [],
   "source": [
    "\n",
    "from sklearn.preprocessing import MinMaxScaler , StandardScaler\n",
    "\n",
    "# scaler = MinMaxScaler()\n",
    "# train_data = scaler.fit_transform(new_dataset)\n",
    "# train_data\n",
    "\n",
    "scaler1 = StandardScaler()\n",
    "# x = scaler1.fit_transform(new_dataset)\n",
    "# train_data1\n",
    "\n",
    "X_train_scaled = scaler1.fit_transform(X_train)\n",
    "X_test_scaled = scaler1.fit_transform(X_test)"
   ]
  },
  {
   "cell_type": "code",
   "execution_count": null,
   "id": "8156eb82-f65d-4304-bde9-3a2465b529b4",
   "metadata": {},
   "outputs": [],
   "source": [
    "from sklearn.linear_model import LinearRegression\n",
    "\n",
    "model = LinearRegression()\n",
    "model.fit(X_train_scaled , y_train)"
   ]
  },
  {
   "cell_type": "code",
   "execution_count": null,
   "id": "c67cf35d-ae23-42a2-bfae-d9100b779597",
   "metadata": {
    "scrolled": true
   },
   "outputs": [],
   "source": [
    "prediction = model.predict(X_test_scaled)\n",
    "prediction"
   ]
  },
  {
   "cell_type": "code",
   "execution_count": null,
   "id": "946ad9f4-692a-418c-ab46-d1dba43fddd7",
   "metadata": {
    "scrolled": true
   },
   "outputs": [],
   "source": [
    "from sklearn.metrics import mean_squared_error \n",
    "\n",
    "mse = mean_squared_error(y_test , prediction)\n",
    "mse"
   ]
  },
  {
   "cell_type": "code",
   "execution_count": null,
   "id": "b1886594-9675-46cd-b73f-0e12f1bbf3ef",
   "metadata": {},
   "outputs": [],
   "source": [
    "from sklearn.metrics import r2_score\n",
    "\n",
    "score  = r2_score(y_test , prediction)\n",
    "score"
   ]
  },
  {
   "cell_type": "code",
   "execution_count": null,
   "id": "78c6ca6c-7e43-4554-82fb-f062f669c8e2",
   "metadata": {},
   "outputs": [],
   "source": [
    "from sklearn.metrics import root_mean_squared_error\n",
    "rmse = root_mean_squared_error(y_test , prediction)\n",
    "rmse"
   ]
  },
  {
   "cell_type": "code",
   "execution_count": null,
   "id": "61a3e3d6-1bc1-4604-9688-e85bccfbd363",
   "metadata": {},
   "outputs": [],
   "source": [
    "from sklearn.ensemble import RandomForestClassifier\n",
    "\n",
    "new_dataset1 = df\n",
    "columns = ['sex' , 'region' ]\n",
    "for column in columns:\n",
    "    encoder = LabelEncoder()\n",
    "    encoded_data = encoder.fit_transform(df[column])\n",
    "    new_dataset1[column] = encoded_data\n",
    "\n",
    "new_dataset1\n",
    "\n",
    "new_data1 = new_dataset1.drop(columns = ['smoker'])\n",
    "X1 = new_data1\n",
    "y1 = new_dataset1['smoker']\n",
    "X_train1 , X_test1 , y_train1 , y_test1 = train_test_split(X1 , y1 , test_size = 0.2 , random_state = 42)\n",
    "scale  = StandardScaler()\n",
    "X_train_scaled1 = scale.fit_transform(X_train1)\n",
    "X_test_scaled1 = scale.fit_transform(X_test1)\n",
    "\n",
    "model1 = RandomForestClassifier(n_estimators = 200 , random_state = 42)\n",
    "model1.fit(X_train_scaled1 , y_train1)\n",
    "\n"
   ]
  },
  {
   "cell_type": "code",
   "execution_count": null,
   "id": "a5cfc5ae-52c3-4449-9075-7100e1771dbf",
   "metadata": {},
   "outputs": [],
   "source": [
    "from sklearn.ensemble import RandomForestRegressor\n",
    "\n",
    "model2 = RandomForestRegressor()\n",
    "\n",
    "model2.fit(X_train_scaled , y_train)\n"
   ]
  },
  {
   "cell_type": "code",
   "execution_count": null,
   "id": "fa99d2fe-2970-4e08-a8e0-8041f3cea256",
   "metadata": {},
   "outputs": [],
   "source": [
    "prediction1 = model2.predict(X_test_scaled)\n",
    "prediction1"
   ]
  },
  {
   "cell_type": "code",
   "execution_count": null,
   "id": "13094c06-1da6-4d33-9cea-ff4f8013d68e",
   "metadata": {},
   "outputs": [],
   "source": [
    "roor_squared_error = root_mean_squared_error(y_test , prediction1)\n",
    "roor_squared_error"
   ]
  },
  {
   "cell_type": "code",
   "execution_count": null,
   "id": "9191731f-a184-4c3f-b77e-9a2bdb4a032c",
   "metadata": {},
   "outputs": [],
   "source": [
    "score_model2 = r2_score(y_test , prediction1)\n",
    "score_model2\n"
   ]
  },
  {
   "cell_type": "code",
   "execution_count": null,
   "id": "10c14fb3-a294-4571-a19b-c4e68f286535",
   "metadata": {},
   "outputs": [],
   "source": [
    "import xgboost as xgb\n",
    "\n",
    "model_xgb = xgb.XGBRegressor()\n",
    "model_xgb.fit(X_train_scaled , y_train)\n"
   ]
  },
  {
   "cell_type": "code",
   "execution_count": null,
   "id": "fd807faf-0a7b-444f-8cd8-b9fb7a50f8d1",
   "metadata": {},
   "outputs": [],
   "source": [
    "xgb_prediction = model_xgb.predict(X_test_scaled)\n",
    "error_rmse = root_mean_squared_error(y_test , xgb_prediction)\n",
    "error_rmse\n",
    "\n",
    "r2_score_value = r2_score(y_test , xgb_prediction)\n",
    "r2_score_value\n"
   ]
  },
  {
   "cell_type": "code",
   "execution_count": null,
   "id": "39924005-f63c-4d63-a637-82a3e0683f53",
   "metadata": {
    "scrolled": true
   },
   "outputs": [],
   "source": [
    "from sklearn.pipeline import Pipeline\n",
    "from sklearn.model_selection import GridSearchCV\n",
    "from sklearn.decomposition import PCA\n",
    "import xgboost as xgb\n",
    "pipe = Pipeline([\n",
    "    ('scaler' , StandardScaler()),\n",
    "    ('pca' , PCA()),\n",
    "    ('xgb' , xgb.XGBRegressor())\n",
    "])\n",
    "\n",
    "param_grid = {\n",
    "    'pca__n_components' : [2 , 4 , 6],\n",
    "    'xgb__n_estimators' : [50 , 100],\n",
    "    'xgb__learning_rate' : [0.1 , 0.05]\n",
    "}\n",
    "grid_search_xgb = GridSearchCV(pipe , param_grid , cv = 5 , n_jobs = -1  ,verbose = 1)\n",
    "grid_search_xgb.fit(X_train_scaled , y_train)\n"
   ]
  },
  {
   "cell_type": "code",
   "execution_count": 64,
   "id": "e3473289-8e34-406d-83fb-fba2d565306b",
   "metadata": {},
   "outputs": [
    {
     "data": {
      "text/plain": [
       "['my_scaler.pkl']"
      ]
     },
     "execution_count": 64,
     "metadata": {},
     "output_type": "execute_result"
    }
   ],
   "source": [
    "import joblib\n",
    "scaler_to_export = grid_search_xgb.best_estimator_.named_steps['scaler']\n",
    "\n",
    "joblib.dump(scaler_to_export, 'my_scaler.pkl') "
   ]
  },
  {
   "cell_type": "code",
   "execution_count": null,
   "id": "006118b7-809a-430e-b90e-2dd0ea2c6382",
   "metadata": {},
   "outputs": [],
   "source": [
    "# xgb_prediction_pipe = grid_search_xgb.predict(X_test_scaled)\n",
    "# error_xgb_pipe_rmse = root_mean_squared_error(y_test , xgb_prediction_pipe)\n",
    "# error_xgb_pipe_rmse\n",
    "\n",
    "# eror = r2_score(y_test , xgb_prediction_pipe)\n",
    "# eror"
   ]
  },
  {
   "cell_type": "code",
   "execution_count": null,
   "id": "f38afe66-9b44-400e-bc3f-7a3cb465c404",
   "metadata": {},
   "outputs": [],
   "source": [
    "pipe_linear = Pipeline([\n",
    "    ('scaler' , StandardScaler()),\n",
    "    ('pca' , PCA()),\n",
    "    ('linear' , LinearRegression())\n",
    "])\n",
    "\n",
    "param_grid_linear = {\n",
    "    'pca__n_components' : [2 , 4 , 6], \n",
    "}\n",
    "grid_search_linear = GridSearchCV(pipe_linear , param_grid_linear , cv = 5 , n_jobs = -1 , verbose = 1)\n",
    "grid_search_linear.fit(X_train_scaled , y_train)\n",
    "linear_prediction_pipe = grid_search_linear.predict(X_test_scaled)\n",
    "\n",
    "rmse_grip_linear = root_mean_squared_error(y_test , linear_prediction_pipe)\n",
    "\n",
    "rmse_grip_linear\n"
   ]
  },
  {
   "cell_type": "code",
   "execution_count": null,
   "id": "937f9936-8fb4-4f11-9c99-0b65f8b00cac",
   "metadata": {},
   "outputs": [],
   "source": [
    "#trying the df without removing the outliers\n",
    "\n",
    "\n",
    "columns = ['sex' , 'region' , 'smoker']\n",
    "for column in columns:\n",
    "    encoder = LabelEncoder()\n",
    "    encoded_data = encoder.fit_transform(new_dataset1[column])\n",
    "    new_dataset1[column] = encoded_data\n",
    "\n",
    "new_df = new_dataset1.drop(columns = ['charges'])\n",
    "X = new_df\n",
    "y = new_dataset1['charges']\n",
    "\n",
    "X_train1 , X_test1 , y_train1 , y_test1 = train_test_split(X , y , test_size = 0.2 , random_state = 42)\n",
    "\n",
    "scaler2 = StandardScaler()\n",
    "\n",
    "X_train_scaled1 = scaler1.fit_transform(X_train1)\n",
    "X_test_scaled1 = scaler1.fit_transform(X_test1)\n",
    "\n",
    "import xgboost as xgb\n",
    "\n",
    "model_xgb1 = xgb.XGBRegressor()\n",
    "model_xgb1.fit(X_train_scaled1 , y_train1)\n",
    "xgb_prediction1 = model_xgb1.predict(X_test_scaled1)\n",
    "\n",
    "error_rmse1 = root_mean_squared_error(y_test1 , xgb_prediction1)\n",
    "error_rmse1\n",
    "\n",
    "r2_score_value1 = r2_score(y_test1 , xgb_prediction1)\n",
    "r2_score_value1\n",
    "\n",
    "\n"
   ]
  },
  {
   "cell_type": "code",
   "execution_count": null,
   "id": "c29a106d-ca54-4218-b815-79196908f4fc",
   "metadata": {},
   "outputs": [],
   "source": [
    "from sklearn.pipeline import Pipeline\n",
    "from sklearn.model_selection import GridSearchCV\n",
    "from sklearn.decomposition import PCA\n",
    "import xgboost as xgb\n",
    "pipe = Pipeline([\n",
    "    ('scaler' , StandardScaler()),\n",
    "    ('pca' , PCA()),\n",
    "    ('xgb' , xgb.XGBRegressor())\n",
    "])\n",
    "\n",
    "param_grid = {\n",
    "    'pca__n_components' : [2 , 4 , 6],\n",
    "    'xgb__n_estimators' : [100 , 200 , 300],\n",
    "    'xgb__learning_rate' : [0.2 ,0.1 , 0.05],\n",
    "    'xgb__max_depth' : [3, 5, 7, 9],   \n",
    "}\n",
    "grid_search_xgb = GridSearchCV(pipe , param_grid , cv = 5 , n_jobs = -1  ,verbose = 1)\n",
    "grid_search_xgb.fit(X_train_scaled1 , y_train1)"
   ]
  },
  {
   "cell_type": "code",
   "execution_count": null,
   "id": "cd3f9fb9-e9d4-4fab-9019-8fbb8957d02a",
   "metadata": {},
   "outputs": [],
   "source": [
    "xgb_prediction_pipe = grid_search_xgb.predict(X_test_scaled1)\n",
    "error_xgb_pipe_rmse = root_mean_squared_error(y_test1 , xgb_prediction_pipe)\n",
    "error_xgb_pipe_rmse\n",
    "\n",
    "eror = r2_score(y_test1 , xgb_prediction_pipe)\n",
    "eror"
   ]
  },
  {
   "cell_type": "code",
   "execution_count": null,
   "id": "263be606-49aa-4a13-8ed0-87fb976352e7",
   "metadata": {},
   "outputs": [],
   "source": [
    "\n",
    "from sklearn.svm import SVR   \n",
    "\n",
    "svr = SVR(kernel = 'rbf')\n",
    "svr.fit(X_train_scaled1 , y_train1)\n",
    "svr_prediction = svr.predict(X_test_scaled1)\n",
    "\n",
    "r2_score_svr = r2_score(y_test1 , svr_prediction)\n",
    "r2_score_svr"
   ]
  },
  {
   "cell_type": "code",
   "execution_count": null,
   "id": "f3bc75d1-8b31-4d74-907b-6feec52e4613",
   "metadata": {},
   "outputs": [],
   "source": [
    "\n",
    "import joblib\n",
    "\n",
    "best_model = grid_search_xgb.best_estimator_\n",
    "\n",
    "joblib.dump(best_model , 'my_model.pkl')"
   ]
  },
  {
   "cell_type": "code",
   "execution_count": null,
   "id": "0f6740a6-f33d-4c28-bfaf-7940cf21028d",
   "metadata": {},
   "outputs": [],
   "source": [
    "sns.scatterplot(x = xgb_prediction , y = prediction)"
   ]
  },
  {
   "cell_type": "code",
   "execution_count": null,
   "id": "2bec54ec-4020-4362-b848-5e5e99f42967",
   "metadata": {},
   "outputs": [],
   "source": []
  }
 ],
 "metadata": {
  "kernelspec": {
   "display_name": "Python 3 (ipykernel)",
   "language": "python",
   "name": "python3"
  },
  "language_info": {
   "codemirror_mode": {
    "name": "ipython",
    "version": 3
   },
   "file_extension": ".py",
   "mimetype": "text/x-python",
   "name": "python",
   "nbconvert_exporter": "python",
   "pygments_lexer": "ipython3",
   "version": "3.13.7"
  }
 },
 "nbformat": 4,
 "nbformat_minor": 5
}
